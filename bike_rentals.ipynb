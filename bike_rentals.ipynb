{
 "cells": [
  {
   "cell_type": "markdown",
   "metadata": {},
   "source": [
    "# Predicting Bike Rentals"
   ]
  },
  {
   "cell_type": "markdown",
   "metadata": {},
   "source": [
    "## Project\n",
    "\n",
    "Imagine how important it is for a bike-sharing company to know how many bikes it needs. If there are not enough of them, it loses potential clients. If there are more than are actually needed, they just stay and generate costs. I'm going to help solve this problem by predicting these numbers.\n",
    "\n",
    "I will work on a real data collected by such a company. I am going to use a neural network and code it myself as this will be a simple network with one hidden layer. At last I will tune the hyperparameters and compare the results."
   ]
  }
 ],
 "metadata": {
  "kernelspec": {
   "display_name": "Python 3",
   "language": "python",
   "name": "python3"
  },
  "language_info": {
   "codemirror_mode": {
    "name": "ipython",
    "version": 3
   },
   "file_extension": ".py",
   "mimetype": "text/x-python",
   "name": "python",
   "nbconvert_exporter": "python",
   "pygments_lexer": "ipython3",
   "version": "3.7.6"
  }
 },
 "nbformat": 4,
 "nbformat_minor": 4
}
